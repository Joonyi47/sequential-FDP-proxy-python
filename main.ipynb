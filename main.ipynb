{
 "cells": [
  {
   "cell_type": "markdown",
   "source": [
    "## Sequential FDP with proxy models"
   ],
   "metadata": {
    "collapsed": false,
    "pycharm": {
     "name": "#%% md\n"
    }
   }
  },
  {
   "cell_type": "markdown",
   "source": [
    "#### Load modules"
   ],
   "metadata": {
    "collapsed": false,
    "pycharm": {
     "name": "#%% md\n"
    }
   }
  },
  {
   "cell_type": "code",
   "execution_count": 1,
   "metadata": {
    "collapsed": true
   },
   "outputs": [],
   "source": [
    "%load_ext autoreload\n",
    "%autoreload 2\n",
    "\n",
    "import os.path\n",
    "import pickle\n",
    "\n",
    "from sampler import DataSampling\n",
    "from proxymodel import ProxyModel\n",
    "from optimization import GlobalOpt\n",
    "from utils import load_matfile\n",
    "import argparse\n",
    "import torch"
   ]
  },
  {
   "cell_type": "markdown",
   "source": [
    "#### Set parameters"
   ],
   "metadata": {
    "collapsed": false,
    "pycharm": {
     "name": "#%% md\n"
    }
   }
  },
  {
   "cell_type": "code",
   "source": [
    "parser = argparse.ArgumentParser()\n",
    "\n",
    "args, unknown = parser.parse_known_args()\n",
    "\n",
    "args.filepath = 'data'\n",
    "args.simulation_directory = 'simulation'\n",
    "args.save_directory = 'variables'\n",
    "args.ecl_filename = '2D_JY_Eclrun'\n",
    "args.frs_filename = '2D_JY_Frsrun'\n",
    "args.perm_filename = '2D_PERMX'\n",
    "args.position_filename = '2D_POSITION'\n",
    "args.constraint_filename = '2D_CONSTRAINT'\n",
    "\n",
    "args.independent_area = 40  # acre\n",
    "args.num_of_x = 60\n",
    "args.num_of_y = 60\n",
    "args.num_of_z = 1\n",
    "args.num_of_max_well = 14\n",
    "args.num_of_rigs = 3\n",
    "args.num_of_particles = 3\n",
    "args.length_of_x = 120\n",
    "args.length_of_y = 120\n",
    "args.length_of_z = 120\n",
    "args.num_of_ensemble = 10\n",
    "\n",
    "args.discount_rate = 0.1\n",
    "args.observed_term = 30\n",
    "args.discount_term = 365\n",
    "args.oil_price = 60\n",
    "args.injection_cost = -5\n",
    "args.disposal_cost = -3\n",
    "args.drilling_cost = 0\n",
    "\n",
    "args.production_time = 7200\n",
    "args.tstep = 30\n",
    "args.dstep = 90  # drilling span\n",
    "args.streamline_time = 30\n",
    "args.max_tof = 10000\n",
    "args.max_pressure = 3500\n",
    "\n",
    "args.num_of_train_sample = 500\n",
    "args.train_ratio = 0.7\n",
    "args.validate_ratio = 0.15\n",
    "args.train_model_saved_dir = './model/1'\n",
    "args.span_of_retrain = 20\n",
    "\n",
    "args.ratio_of_infeasible = 0.3\n",
    "args.well_type = {'P': 1, 'No': 0, 'I': -1}\n",
    "args.type_fix = False\n",
    "args.drilling_time_fix = True\n",
    "args.location_fix = True\n",
    "args.control_fix = True\n",
    "\n",
    "args.well_placement_optimization = True\n",
    "args.well_operation_optimization = True\n",
    "args.simultaneous_optimization = False\n",
    "args.well_location_index = None\n",
    "args.well_type_real = None\n",
    "args.well_placement_wset = [1500, 1500, 5500, 5500]\n",
    "args.well_operation_wset = [1500, 2500, 4500, 6000]\n",
    "\n",
    "args.perm_mat = './data/PERMX.mat'\n",
    "\n",
    "args.parallel = True\n",
    "\n",
    "args.cached_dir = './cached'\n",
    "args.well_placement_sample_file = 'sample_wp(5).pkl'\n",
    "args.well_operation_sample_file = 'sample_wo(5).pkl'\n",
    "args.num_of_epochs = 20\n",
    "args.batch_size = 150\n",
    "\n",
    "args.optimization_algorithm = 'PSO'\n",
    "args.num_of_generations = 200\n",
    "\n",
    "args.gen_of_retrain = range(args.span_of_retrain, args.num_of_generations + 1, args.span_of_retrain)\n",
    "\n",
    "assert args.validate_ratio != 0, 'validate_ratio should be greater than 0'\n",
    "assert (1 - args.train_ratio - args.validate_ratio) > 0, '(train_ratio + validate_ratio) should not be 1'\n",
    "if args.well_operation_optimization and not args.well_placement_optimization:\n",
    "    # if you only want to optimize well operation conditions, provide well position settings by yourself\n",
    "    assert args.well_placement_optimization, 'if you only want to optimize well operation conditions, provide ' \\\n",
    "                                             'well position settings by yourself. You must set the default well ' \\\n",
    "                                             'locations for a defined number of wells. ' \\\n",
    "                                             '- well_location_index, well_type_real'"
   ],
   "metadata": {
    "collapsed": false,
    "pycharm": {
     "name": "#%%\n"
    }
   },
   "execution_count": 5,
   "outputs": []
  },
  {
   "cell_type": "code",
   "execution_count": 6,
   "outputs": [],
   "source": [
    "if not os.path.exists(args.train_model_saved_dir):\n",
    "    print('model_saved_dir not exists')\n",
    "    os.mkdir(args.train_model_saved_dir)\n",
    "\n",
    "perm = load_matfile(args.perm_mat, 'original')\n",
    "perm_idx = load_matfile(args.perm_mat, 'selected')"
   ],
   "metadata": {
    "collapsed": false,
    "pycharm": {
     "name": "#%%\n"
    }
   }
  },
  {
   "cell_type": "markdown",
   "source": [
    "### 1. Well placement\n"
   ],
   "metadata": {
    "collapsed": false,
    "pycharm": {
     "name": "#%% md\n"
    }
   }
  },
  {
   "cell_type": "markdown",
   "source": [
    "#### 1.1. Proxy modeling\n"
   ],
   "metadata": {
    "collapsed": false,
    "pycharm": {
     "name": "#%% md\n"
    }
   }
  },
  {
   "cell_type": "markdown",
   "source": [
    "##### make samples to train a proxy model"
   ],
   "metadata": {
    "collapsed": false,
    "pycharm": {
     "name": "#%% md\n"
    }
   }
  },
  {
   "cell_type": "code",
   "execution_count": null,
   "outputs": [],
   "source": [
    "args.independent_area = 40\n",
    "args.num_of_train_sample = 500\n",
    "args.well_placement_wset = [1500, 1500, 5500, 5500]\n",
    "args.well_type = {'P': 1, 'No': 0, 'I': -1}\n",
    "args.ratio_of_infeasible = 0.3"
   ],
   "metadata": {
    "collapsed": false,
    "pycharm": {
     "name": "#%% arguments\n"
    }
   }
  },
  {
   "cell_type": "code",
   "execution_count": 25,
   "outputs": [
    {
     "name": "stdout",
     "output_type": "stream",
     "text": [
      "ensemble #1\n"
     ]
    },
    {
     "name": "stderr",
     "output_type": "stream",
     "text": [
      "Please wait..: 100%|██████████| 500/500 [00:06<00:00, 74.17it/s] \n",
      "now simulate: 100%|██████████| 500/500 [19:37<00:00,  2.36s/it]\n"
     ]
    },
    {
     "name": "stdout",
     "output_type": "stream",
     "text": [
      "ensemble #2\n"
     ]
    },
    {
     "name": "stderr",
     "output_type": "stream",
     "text": [
      "Please wait..: 100%|██████████| 500/500 [00:05<00:00, 90.88it/s] \n",
      "now simulate: 100%|██████████| 500/500 [20:00<00:00,  2.40s/it]\n"
     ]
    },
    {
     "name": "stdout",
     "output_type": "stream",
     "text": [
      "ensemble #3\n"
     ]
    },
    {
     "name": "stderr",
     "output_type": "stream",
     "text": [
      "Please wait..: 100%|██████████| 500/500 [00:05<00:00, 97.68it/s] \n",
      "now simulate: 100%|██████████| 500/500 [19:25<00:00,  2.33s/it]\n"
     ]
    },
    {
     "name": "stdout",
     "output_type": "stream",
     "text": [
      "ensemble #4\n"
     ]
    },
    {
     "name": "stderr",
     "output_type": "stream",
     "text": [
      "Please wait..: 100%|██████████| 500/500 [00:05<00:00, 93.37it/s] \n",
      "now simulate: 100%|██████████| 500/500 [19:07<00:00,  2.29s/it]\n"
     ]
    },
    {
     "name": "stdout",
     "output_type": "stream",
     "text": [
      "ensemble #5\n"
     ]
    },
    {
     "name": "stderr",
     "output_type": "stream",
     "text": [
      "Please wait..: 100%|██████████| 500/500 [00:05<00:00, 90.56it/s] \n",
      "now simulate: 100%|██████████| 500/500 [19:25<00:00,  2.33s/it]\n"
     ]
    },
    {
     "name": "stdout",
     "output_type": "stream",
     "text": [
      "ensemble #6\n"
     ]
    },
    {
     "name": "stderr",
     "output_type": "stream",
     "text": [
      "Please wait..: 100%|██████████| 500/500 [00:05<00:00, 91.44it/s] \n",
      "now simulate: 100%|██████████| 500/500 [19:30<00:00,  2.34s/it]\n"
     ]
    },
    {
     "name": "stdout",
     "output_type": "stream",
     "text": [
      "ensemble #7\n"
     ]
    },
    {
     "name": "stderr",
     "output_type": "stream",
     "text": [
      "Please wait..: 100%|██████████| 500/500 [00:05<00:00, 91.23it/s] \n",
      "now simulate: 100%|██████████| 500/500 [19:56<00:00,  2.39s/it]\n"
     ]
    },
    {
     "name": "stdout",
     "output_type": "stream",
     "text": [
      "ensemble #8\n"
     ]
    },
    {
     "name": "stderr",
     "output_type": "stream",
     "text": [
      "Please wait..: 100%|██████████| 500/500 [00:04<00:00, 103.19it/s]\n",
      "now simulate: 100%|██████████| 500/500 [19:53<00:00,  2.39s/it]\n"
     ]
    },
    {
     "name": "stdout",
     "output_type": "stream",
     "text": [
      "ensemble #9\n"
     ]
    },
    {
     "name": "stderr",
     "output_type": "stream",
     "text": [
      "Please wait..: 100%|██████████| 500/500 [00:06<00:00, 78.16it/s] \n",
      "now simulate: 100%|██████████| 500/500 [19:54<00:00,  2.39s/it]\n"
     ]
    },
    {
     "name": "stdout",
     "output_type": "stream",
     "text": [
      "ensemble #10\n"
     ]
    },
    {
     "name": "stderr",
     "output_type": "stream",
     "text": [
      "Please wait..: 100%|██████████| 500/500 [00:05<00:00, 98.06it/s] \n",
      "now simulate: 100%|██████████| 500/500 [19:55<00:00,  2.39s/it]\n"
     ]
    }
   ],
   "source": [
    "PlacementSample = DataSampling(args, wset=args.well_placement_wset, well_type=args.well_type,\n",
    "                                       location_fix=False, type_fix=False, drilling_time_fix=True,\n",
    "                                       control_fix=True, num_of_ensemble=args.num_of_ensemble,\n",
    "                                       num_of_wells=args.num_of_max_well)\n",
    "\n",
    "if os.path.exists(os.path.join(args.cached_dir, args.well_placement_sample_file)):\n",
    "    with open(os.path.join(args.cached_dir, args.well_placement_sample_file), 'rb') as f:\n",
    "        samples_p = pickle.load(f)\n",
    "else:\n",
    "    samples_p = []\n",
    "    for idx in range(args.num_of_ensemble):\n",
    "        print(f'ensemble #{idx + 1}')\n",
    "        initial_p = PlacementSample.make_candidate_solutions(num_of_candidates=args.num_of_train_sample)\n",
    "        samples_p += PlacementSample.make_train_data(initial_p, [perm[perm_idx[idx][0] - 1]])\n",
    "    with open(os.path.join(args.cached_dir, args.well_placement_sample_file), 'wb') as f:\n",
    "        pickle.dump(samples_p, f)\n"
   ],
   "metadata": {
    "collapsed": false,
    "pycharm": {
     "name": "#%%\n"
    }
   }
  },
  {
   "cell_type": "markdown",
   "source": [
    "##### NPV histogram"
   ],
   "metadata": {
    "collapsed": false,
    "pycharm": {
     "name": "#%% md\n"
    }
   }
  },
  {
   "cell_type": "code",
   "execution_count": 27,
   "outputs": [
    {
     "data": {
      "text/plain": "(array([ 141.,  329.,  639.,  924., 1089.,  949.,  576.,  260.,   80.,\n          13.]),\n array([-1.36391438e+07,  3.30249767e+07,  7.96890972e+07,  1.26353218e+08,\n         1.73017338e+08,  2.19681459e+08,  2.66345579e+08,  3.13009700e+08,\n         3.59673820e+08,  4.06337941e+08,  4.53002061e+08]),\n <BarContainer object of 10 artists>)"
     },
     "execution_count": 27,
     "metadata": {},
     "output_type": "execute_result"
    },
    {
     "data": {
      "text/plain": "<Figure size 640x480 with 1 Axes>",
      "image/png": "[encoded data removed]"
     },
     "metadata": {},
     "output_type": "display_data"
    }
   ],
   "source": [
    "from matplotlib import pyplot\n",
    "pyplot.hist([s.fit for s in samples_p])"
   ],
   "metadata": {
    "collapsed": false,
    "pycharm": {
     "name": "#%%\n"
    }
   }
  },
  {
   "cell_type": "markdown",
   "source": [
    "##### train a proxy model"
   ],
   "metadata": {
    "collapsed": false,
    "pycharm": {
     "name": "#%% md\n"
    }
   }
  },
  {
   "cell_type": "code",
   "execution_count": null,
   "outputs": [],
   "source": [
    "args.train_ratio = 0.7\n",
    "args.validate_ratio = 0.15\n",
    "args.train_model_saved_dir = './model/1'\n",
    "\n",
    "args.num_of_epochs = 20\n",
    "args.batch_size = 150\n",
    "model_name = 'ResNet'"
   ],
   "metadata": {
    "collapsed": false,
    "pycharm": {
     "name": "#%% arguments\n"
    }
   }
  },
  {
   "cell_type": "code",
   "execution_count": 31,
   "outputs": [
    {
     "name": "stderr",
     "output_type": "stream",
     "text": [
      "epoch: 0 - loss: 1.0836532314618428 :   5%|▌         | 1/20 [00:29<09:20, 29.47s/it]"
     ]
    },
    {
     "name": "stdout",
     "output_type": "stream",
     "text": [
      "Epoch 1 \t\t Training Loss: 1.0836532314618428 \t\t Validation Loss: 0.6493516683578491\n",
      "Validation Loss Decreased(inf--->0.649352) \t Saving The Model\n"
     ]
    },
    {
     "name": "stderr",
     "output_type": "stream",
     "text": [
      "epoch: 1 - loss: 0.4653758021692435 :  10%|█         | 2/20 [01:00<09:03, 30.21s/it]"
     ]
    },
    {
     "name": "stdout",
     "output_type": "stream",
     "text": [
      "Epoch 2 \t\t Training Loss: 0.4653758021692435 \t\t Validation Loss: 0.5301491141319274\n",
      "Validation Loss Decreased(0.649352--->0.530149) \t Saving The Model\n"
     ]
    },
    {
     "name": "stderr",
     "output_type": "stream",
     "text": [
      "epoch: 2 - loss: 0.36024082203706104 :  15%|█▌        | 3/20 [01:30<08:36, 30.36s/it]"
     ]
    },
    {
     "name": "stdout",
     "output_type": "stream",
     "text": [
      "Epoch 3 \t\t Training Loss: 0.36024082203706104 \t\t Validation Loss: 0.3808392107486725\n",
      "Validation Loss Decreased(0.530149--->0.380839) \t Saving The Model\n"
     ]
    },
    {
     "name": "stderr",
     "output_type": "stream",
     "text": [
      "epoch: 3 - loss: 0.35385386645793915 :  20%|██        | 4/20 [02:01<08:10, 30.64s/it]"
     ]
    },
    {
     "name": "stdout",
     "output_type": "stream",
     "text": [
      "Epoch 4 \t\t Training Loss: 0.35385386645793915 \t\t Validation Loss: 0.32929704189300535\n",
      "Validation Loss Decreased(0.380839--->0.329297) \t Saving The Model\n"
     ]
    },
    {
     "name": "stderr",
     "output_type": "stream",
     "text": [
      "epoch: 4 - loss: 0.31030213584502536 :  25%|██▌       | 5/20 [02:32<07:38, 30.58s/it]"
     ]
    },
    {
     "name": "stdout",
     "output_type": "stream",
     "text": [
      "Epoch 5 \t\t Training Loss: 0.31030213584502536 \t\t Validation Loss: 0.36387556195259096\n"
     ]
    },
    {
     "name": "stderr",
     "output_type": "stream",
     "text": [
      "epoch: 5 - loss: 0.2868207624802987 :  30%|███       | 6/20 [03:03<07:10, 30.74s/it] "
     ]
    },
    {
     "name": "stdout",
     "output_type": "stream",
     "text": [
      "Epoch 6 \t\t Training Loss: 0.2868207624802987 \t\t Validation Loss: 0.3584774315357208\n"
     ]
    },
    {
     "name": "stderr",
     "output_type": "stream",
     "text": [
      "epoch: 6 - loss: 0.31911162721614045 :  35%|███▌      | 7/20 [03:36<06:48, 31.39s/it]"
     ]
    },
    {
     "name": "stdout",
     "output_type": "stream",
     "text": [
      "Epoch 7 \t\t Training Loss: 0.31911162721614045 \t\t Validation Loss: 0.4762783646583557\n"
     ]
    },
    {
     "name": "stderr",
     "output_type": "stream",
     "text": [
      "epoch: 7 - loss: 0.32853849418461323 :  40%|████      | 8/20 [04:06<06:12, 31.03s/it]"
     ]
    },
    {
     "name": "stdout",
     "output_type": "stream",
     "text": [
      "Epoch 8 \t\t Training Loss: 0.32853849418461323 \t\t Validation Loss: 0.3097278118133545\n",
      "Validation Loss Decreased(0.329297--->0.309728) \t Saving The Model\n"
     ]
    },
    {
     "name": "stderr",
     "output_type": "stream",
     "text": [
      "epoch: 8 - loss: 0.2587418823192517 :  45%|████▌     | 9/20 [04:36<05:39, 30.87s/it] "
     ]
    },
    {
     "name": "stdout",
     "output_type": "stream",
     "text": [
      "Epoch 9 \t\t Training Loss: 0.2587418823192517 \t\t Validation Loss: 0.47186166048049927\n"
     ]
    },
    {
     "name": "stderr",
     "output_type": "stream",
     "text": [
      "epoch: 9 - loss: 0.23142423232396445 :  50%|█████     | 10/20 [05:06<05:05, 30.55s/it]"
     ]
    },
    {
     "name": "stdout",
     "output_type": "stream",
     "text": [
      "Epoch 10 \t\t Training Loss: 0.23142423232396445 \t\t Validation Loss: 0.35935882329940794\n"
     ]
    },
    {
     "name": "stderr",
     "output_type": "stream",
     "text": [
      "epoch: 10 - loss: 0.24038346173862615 :  55%|█████▌    | 11/20 [05:39<04:40, 31.15s/it]"
     ]
    },
    {
     "name": "stdout",
     "output_type": "stream",
     "text": [
      "Epoch 11 \t\t Training Loss: 0.24038346173862615 \t\t Validation Loss: 0.5469210147857666\n"
     ]
    },
    {
     "name": "stderr",
     "output_type": "stream",
     "text": [
      "epoch: 11 - loss: 0.24526510884364447 :  60%|██████    | 12/20 [06:08<04:05, 30.69s/it]"
     ]
    },
    {
     "name": "stdout",
     "output_type": "stream",
     "text": [
      "Epoch 12 \t\t Training Loss: 0.24526510884364447 \t\t Validation Loss: 0.29017109870910646\n",
      "Validation Loss Decreased(0.309728--->0.290171) \t Saving The Model\n"
     ]
    },
    {
     "name": "stderr",
     "output_type": "stream",
     "text": [
      "epoch: 12 - loss: 0.22903596051037312 :  65%|██████▌   | 13/20 [06:38<03:33, 30.46s/it]"
     ]
    },
    {
     "name": "stdout",
     "output_type": "stream",
     "text": [
      "Epoch 13 \t\t Training Loss: 0.22903596051037312 \t\t Validation Loss: 0.2947544872760773\n"
     ]
    },
    {
     "name": "stderr",
     "output_type": "stream",
     "text": [
      "epoch: 13 - loss: 0.24340412889917692 :  70%|███████   | 14/20 [07:07<03:00, 30.05s/it]"
     ]
    },
    {
     "name": "stdout",
     "output_type": "stream",
     "text": [
      "Epoch 14 \t\t Training Loss: 0.24340412889917692 \t\t Validation Loss: 0.3687399923801422\n"
     ]
    },
    {
     "name": "stderr",
     "output_type": "stream",
     "text": [
      "epoch: 14 - loss: 0.2759851614634196 :  75%|███████▌  | 15/20 [07:34<02:25, 29.05s/it] "
     ]
    },
    {
     "name": "stdout",
     "output_type": "stream",
     "text": [
      "Epoch 15 \t\t Training Loss: 0.2759851614634196 \t\t Validation Loss: 0.4348774075508118\n"
     ]
    },
    {
     "name": "stderr",
     "output_type": "stream",
     "text": [
      "epoch: 15 - loss: 0.24715564089516798 :  80%|████████  | 16/20 [08:05<01:58, 29.52s/it]"
     ]
    },
    {
     "name": "stdout",
     "output_type": "stream",
     "text": [
      "Epoch 16 \t\t Training Loss: 0.24715564089516798 \t\t Validation Loss: 0.4400239050388336\n"
     ]
    },
    {
     "name": "stderr",
     "output_type": "stream",
     "text": [
      "epoch: 16 - loss: 0.20500652740399042 :  85%|████████▌ | 17/20 [08:38<01:31, 30.61s/it]"
     ]
    },
    {
     "name": "stdout",
     "output_type": "stream",
     "text": [
      "Epoch 17 \t\t Training Loss: 0.20500652740399042 \t\t Validation Loss: 0.28018840551376345\n",
      "Validation Loss Decreased(0.290171--->0.280188) \t Saving The Model\n"
     ]
    },
    {
     "name": "stderr",
     "output_type": "stream",
     "text": [
      "epoch: 17 - loss: 0.24554882322748503 :  90%|█████████ | 18/20 [09:09<01:01, 30.76s/it]"
     ]
    },
    {
     "name": "stdout",
     "output_type": "stream",
     "text": [
      "Epoch 18 \t\t Training Loss: 0.24554882322748503 \t\t Validation Loss: 0.3322198331356049\n"
     ]
    },
    {
     "name": "stderr",
     "output_type": "stream",
     "text": [
      "epoch: 18 - loss: 0.22236529178917408 :  95%|█████████▌| 19/20 [09:40<00:30, 30.71s/it]"
     ]
    },
    {
     "name": "stdout",
     "output_type": "stream",
     "text": [
      "Epoch 19 \t\t Training Loss: 0.22236529178917408 \t\t Validation Loss: 0.2584627240896225\n",
      "Validation Loss Decreased(0.280188--->0.258463) \t Saving The Model\n"
     ]
    },
    {
     "name": "stderr",
     "output_type": "stream",
     "text": [
      "epoch: 19 - loss: 0.18955818998316923 : 100%|██████████| 20/20 [10:10<00:00, 30.53s/it]"
     ]
    },
    {
     "name": "stdout",
     "output_type": "stream",
     "text": [
      "Epoch 20 \t\t Training Loss: 0.18955818998316923 \t\t Validation Loss: 0.3384425282478333\n",
      "Now test to test_dataset\n"
     ]
    },
    {
     "name": "stderr",
     "output_type": "stream",
     "text": [
      "\n"
     ]
    },
    {
     "name": "stdout",
     "output_type": "stream",
     "text": [
      "[0.9270236724296214]\n"
     ]
    }
   ],
   "source": [
    "Model_p = ProxyModel(args, samples_p, model_name=model_name)\n",
    "if os.path.exists(f'{Model_p.saved_dir}/saved_model.pth'):\n",
    "    Model_p.model.load_state_dict(torch.load(f'{Model_p.saved_dir}/saved_model.pth'))\n",
    "else:\n",
    "    Model_p.model = Model_p.train_model(samples_p, train_ratio=args.train_ratio,\n",
    "                                        validate_ratio=args.validate_ratio,\n",
    "                                        saved_dir=Model_p.saved_dir)"
   ],
   "metadata": {
    "collapsed": false,
    "pycharm": {
     "name": "#%%\n"
    }
   }
  },
  {
   "cell_type": "markdown",
   "source": [
    "##### plot \"real-prediction\""
   ],
   "metadata": {
    "collapsed": false,
    "pycharm": {
     "name": "#%% md\n"
    }
   }
  },
  {
   "cell_type": "code",
   "execution_count": 33,
   "outputs": [
    {
     "data": {
      "text/plain": "<matplotlib.collections.PathCollection at 0x222c09952e0>"
     },
     "execution_count": 33,
     "metadata": {},
     "output_type": "execute_result"
    },
    {
     "data": {
      "text/plain": "<Figure size 640x480 with 1 Axes>",
      "image/png": "[encoded data removed]"
     },
     "metadata": {},
     "output_type": "display_data"
    }
   ],
   "source": [
    "from matplotlib import pyplot\n",
    "real = Model_p.reals\n",
    "prediction = Model_p.predictions\n",
    "pyplot.scatter(real, prediction)\n"
   ],
   "metadata": {
    "collapsed": false,
    "pycharm": {
     "name": "#%%\n"
    }
   }
  },
  {
   "cell_type": "markdown",
   "source": [
    "#### 1.2. Optimization\n"
   ],
   "metadata": {
    "collapsed": false,
    "pycharm": {
     "name": "#%% md\n"
    }
   }
  },
  {
   "cell_type": "code",
   "execution_count": 34,
   "outputs": [],
   "source": [
    "args.optimization_algorithm = 'PSO'\n",
    "args.num_of_generations = 10"
   ],
   "metadata": {
    "collapsed": false,
    "pycharm": {
     "name": "#%% arguments\n"
    }
   }
  },
  {
   "cell_type": "code",
   "execution_count": 56,
   "outputs": [
    {
     "name": "stderr",
     "output_type": "stream",
     "text": [
      "Please wait..: 100%|██████████| 3/3 [00:00<00:00, 93.23it/s]\n",
      "best fit = 64183124.0: 100%|██████████| 10/10 [04:06<00:00, 24.64s/it]\n"
     ]
    }
   ],
   "source": [
    "placement_positions = PlacementSample.make_candidate_solutions(num_of_candidates=args.num_of_particles)\n",
    "\n",
    "WPO = GlobalOpt(args, placement_positions, [PlacementSample.perm[idx[0]-1] for idx in PlacementSample.perm_idx],\n",
    "                alg_name='PSO', nn_model=Model_p, sample=samples_p)\n",
    "WPO.iterate(args.num_of_generations)\n",
    "best_wp = WPO.get_solution(location=True, type=True)"
   ],
   "metadata": {
    "collapsed": false,
    "pycharm": {
     "name": "#%%\n"
    }
   }
  },
  {
   "cell_type": "markdown",
   "source": [
    "### 2. Well operation\n"
   ],
   "metadata": {
    "collapsed": false,
    "pycharm": {
     "name": "#%% md\n"
    }
   }
  },
  {
   "cell_type": "markdown",
   "source": [
    "#### 2.1. Proxy modeling"
   ],
   "metadata": {
    "collapsed": false,
    "pycharm": {
     "name": "#%% md\n"
    }
   }
  },
  {
   "cell_type": "markdown",
   "source": [
    "##### make samples to train a proxy model\n"
   ],
   "metadata": {
    "collapsed": false,
    "pycharm": {
     "name": "#%% md\n"
    }
   }
  },
  {
   "cell_type": "code",
   "execution_count": 57,
   "outputs": [
    {
     "name": "stderr",
     "output_type": "stream",
     "text": [
      "Please wait..: 100%|██████████| 500/500 [00:06<00:00, 78.96it/s] \n",
      "now simulate: 100%|██████████| 500/500 [2:38:09<00:00, 18.98s/it]  \n"
     ]
    }
   ],
   "source": [
    "OperationSample = DataSampling(args, wset=args.well_operation_wset, well_type=args.well_type,\n",
    "                                       type_fix=True, location_fix=True, drilling_time_fix=False,\n",
    "                                       control_fix=False, num_of_ensemble=args.num_of_ensemble,\n",
    "                                       num_of_wells=len(best_wp['location']), violation_check=False)\n",
    "\n",
    "if os.path.exists(os.path.join(args.cached_dir, args.well_operation_sample_file)):\n",
    "    with open(args.cached_file, 'rb') as f:\n",
    "        samples_o = pickle.load(f)\n",
    "else:\n",
    "    args.drilling_cost = 2E+06\n",
    "    initial_o = OperationSample.make_candidate_solutions(num_of_candidates=args.num_of_train_sample,\n",
    "                                                         location=best_wp['location'],\n",
    "                                                         type_real=best_wp['type'])\n",
    "    samples_o = OperationSample.make_train_data(initial_o, [perm[idx[0] - 1] for idx in perm_idx],\n",
    "                                                use_frontsim=False)\n",
    "    with open(os.path.join(args.cached_dir, args.well_operation_sample_file), 'wb') as f:\n",
    "        pickle.dump(samples_o, f)"
   ],
   "metadata": {
    "collapsed": false,
    "pycharm": {
     "name": "#%%\n"
    }
   }
  },
  {
   "cell_type": "markdown",
   "source": [
    "##### NPV histogram"
   ],
   "metadata": {
    "collapsed": false,
    "pycharm": {
     "name": "#%% md\n"
    }
   }
  },
  {
   "cell_type": "code",
   "execution_count": 58,
   "outputs": [
    {
     "data": {
      "text/plain": "(array([  1.,   3.,   9.,  28.,  63., 111., 159.,  93.,  28.,   5.]),\n array([3.44709457e+08, 3.49499842e+08, 3.54290228e+08, 3.59080613e+08,\n        3.63870998e+08, 3.68661384e+08, 3.73451769e+08, 3.78242154e+08,\n        3.83032539e+08, 3.87822925e+08, 3.92613310e+08]),\n <BarContainer object of 10 artists>)"
     },
     "execution_count": 58,
     "metadata": {},
     "output_type": "execute_result"
    },
    {
     "data": {
      "text/plain": "<Figure size 640x480 with 1 Axes>",
      "image/png": "[encoded data removed]"
     },
     "metadata": {},
     "output_type": "display_data"
    }
   ],
   "source": [
    "from matplotlib import pyplot\n",
    "pyplot.hist([s.fit for s in samples_o])"
   ],
   "metadata": {
    "collapsed": false,
    "pycharm": {
     "name": "#%%\n"
    }
   }
  },
  {
   "cell_type": "markdown",
   "source": [
    "##### train a proxy model"
   ],
   "metadata": {
    "collapsed": false,
    "pycharm": {
     "name": "#%% md\n"
    }
   }
  },
  {
   "cell_type": "code",
   "execution_count": 71,
   "outputs": [
    {
     "ename": "ValueError",
     "evalue": "could not convert string to float: ''",
     "output_type": "error",
     "traceback": [
      "\u001B[1;31m---------------------------------------------------------------------------\u001B[0m",
      "\u001B[1;31mValueError\u001B[0m                                Traceback (most recent call last)",
      "Cell \u001B[1;32mIn [71], line 5\u001B[0m\n\u001B[0;32m      3\u001B[0m     Model_o\u001B[38;5;241m.\u001B[39mmodel\u001B[38;5;241m.\u001B[39mload_state_dict(torch\u001B[38;5;241m.\u001B[39mload(\u001B[38;5;124mf\u001B[39m\u001B[38;5;124m'\u001B[39m\u001B[38;5;132;01m{\u001B[39;00mModel_o\u001B[38;5;241m.\u001B[39msaved_dir\u001B[38;5;132;01m}\u001B[39;00m\u001B[38;5;124m/saved_model.pth\u001B[39m\u001B[38;5;124m'\u001B[39m))\n\u001B[0;32m      4\u001B[0m \u001B[38;5;28;01melse\u001B[39;00m:\n\u001B[1;32m----> 5\u001B[0m     Model_o\u001B[38;5;241m.\u001B[39mmodel \u001B[38;5;241m=\u001B[39m \u001B[43mModel_o\u001B[49m\u001B[38;5;241;43m.\u001B[39;49m\u001B[43mtrain_model\u001B[49m\u001B[43m(\u001B[49m\u001B[43msamples_o\u001B[49m\u001B[43m,\u001B[49m\u001B[43m \u001B[49m\u001B[43mtrain_ratio\u001B[49m\u001B[38;5;241;43m=\u001B[39;49m\u001B[43margs\u001B[49m\u001B[38;5;241;43m.\u001B[39;49m\u001B[43mtrain_ratio\u001B[49m\u001B[43m,\u001B[49m\n\u001B[0;32m      6\u001B[0m \u001B[43m                                        \u001B[49m\u001B[43mvalidate_ratio\u001B[49m\u001B[38;5;241;43m=\u001B[39;49m\u001B[43margs\u001B[49m\u001B[38;5;241;43m.\u001B[39;49m\u001B[43mvalidate_ratio\u001B[49m\u001B[43m,\u001B[49m\n\u001B[0;32m      7\u001B[0m \u001B[43m                                        \u001B[49m\u001B[43msaved_dir\u001B[49m\u001B[38;5;241;43m=\u001B[39;49m\u001B[43mModel_o\u001B[49m\u001B[38;5;241;43m.\u001B[39;49m\u001B[43msaved_dir\u001B[49m\u001B[43m)\u001B[49m\n",
      "File \u001B[1;32mC:\\PycharmProject\\sequential-FDP-proxy-python\\proxymodel.py:134\u001B[0m, in \u001B[0;36mProxyModel.train_model\u001B[1;34m(self, data, train_ratio, validate_ratio, saved_dir)\u001B[0m\n\u001B[0;32m    131\u001B[0m \u001B[38;5;28;01mdef\u001B[39;00m \u001B[38;5;21mtrain_model\u001B[39m(\u001B[38;5;28mself\u001B[39m, data, train_ratio\u001B[38;5;241m=\u001B[39m\u001B[38;5;241m0.7\u001B[39m, validate_ratio\u001B[38;5;241m=\u001B[39m\u001B[38;5;241m0.15\u001B[39m, saved_dir\u001B[38;5;241m=\u001B[39m\u001B[38;5;124m'\u001B[39m\u001B[38;5;124m./model\u001B[39m\u001B[38;5;124m'\u001B[39m):\n\u001B[0;32m    133\u001B[0m     train_dataloader, valid_dataloader, test_dataloader \u001B[38;5;241m=\u001B[39m \\\n\u001B[1;32m--> 134\u001B[0m         \u001B[38;5;28;43mself\u001B[39;49m\u001B[38;5;241;43m.\u001B[39;49m\u001B[43mmake_dataloader\u001B[49m\u001B[43m(\u001B[49m\u001B[43mdata\u001B[49m\u001B[43m,\u001B[49m\u001B[43m \u001B[49m\u001B[43mtrain_ratio\u001B[49m\u001B[38;5;241;43m=\u001B[39;49m\u001B[43mtrain_ratio\u001B[49m\u001B[43m,\u001B[49m\u001B[43m \u001B[49m\u001B[43mvalidate_ratio\u001B[49m\u001B[38;5;241;43m=\u001B[39;49m\u001B[43mvalidate_ratio\u001B[49m\u001B[43m)\u001B[49m\n\u001B[0;32m    136\u001B[0m     \u001B[38;5;28mself\u001B[39m\u001B[38;5;241m.\u001B[39mmodel \u001B[38;5;241m=\u001B[39m \u001B[38;5;28mself\u001B[39m\u001B[38;5;241m.\u001B[39mtrain(\u001B[38;5;28mself\u001B[39m\u001B[38;5;241m.\u001B[39mmodel, train_dataloader, valid_dataloader, test_dataloader, saved_dir)\n\u001B[0;32m    138\u001B[0m     \u001B[38;5;28;01mreturn\u001B[39;00m \u001B[38;5;28mself\u001B[39m\u001B[38;5;241m.\u001B[39mmodel\n",
      "File \u001B[1;32mC:\\PycharmProject\\sequential-FDP-proxy-python\\proxymodel.py:111\u001B[0m, in \u001B[0;36mProxyModel.make_dataloader\u001B[1;34m(self, data, train_ratio, validate_ratio)\u001B[0m\n\u001B[0;32m    107\u001B[0m args \u001B[38;5;241m=\u001B[39m \u001B[38;5;28mself\u001B[39m\u001B[38;5;241m.\u001B[39margs\n\u001B[0;32m    109\u001B[0m test_ratio \u001B[38;5;241m=\u001B[39m \u001B[38;5;241m1\u001B[39m \u001B[38;5;241m-\u001B[39m train_ratio \u001B[38;5;241m-\u001B[39m validate_ratio\n\u001B[1;32m--> 111\u001B[0m data \u001B[38;5;241m=\u001B[39m \u001B[38;5;28;43mself\u001B[39;49m\u001B[38;5;241;43m.\u001B[39;49m\u001B[43mpreprocess\u001B[49m\u001B[43m(\u001B[49m\u001B[43mdata\u001B[49m\u001B[43m,\u001B[49m\u001B[43m \u001B[49m\u001B[43mmodel_name\u001B[49m\u001B[38;5;241;43m=\u001B[39;49m\u001B[38;5;28;43mself\u001B[39;49m\u001B[38;5;241;43m.\u001B[39;49m\u001B[43mmodel_name\u001B[49m\u001B[43m)\u001B[49m\n\u001B[0;32m    112\u001B[0m \u001B[38;5;28;01mif\u001B[39;00m \u001B[38;5;28mself\u001B[39m\u001B[38;5;241m.\u001B[39mmodel_name \u001B[38;5;129;01min\u001B[39;00m [\u001B[38;5;124m'\u001B[39m\u001B[38;5;124mCNN\u001B[39m\u001B[38;5;124m'\u001B[39m, \u001B[38;5;124m'\u001B[39m\u001B[38;5;124mResNet\u001B[39m\u001B[38;5;124m'\u001B[39m]:\n\u001B[0;32m    113\u001B[0m     dataset \u001B[38;5;241m=\u001B[39m WPDataset(data, args\u001B[38;5;241m.\u001B[39mmax_tof, args\u001B[38;5;241m.\u001B[39mnum_of_x, args\u001B[38;5;241m.\u001B[39mnum_of_y, \u001B[38;5;28;01mNone\u001B[39;00m)\n",
      "File \u001B[1;32mC:\\PycharmProject\\sequential-FDP-proxy-python\\proxymodel.py:67\u001B[0m, in \u001B[0;36mProxyModel.preprocess\u001B[1;34m(self, data, model_name)\u001B[0m\n\u001B[0;32m     65\u001B[0m     data_input\u001B[38;5;241m.\u001B[39mappend(np\u001B[38;5;241m.\u001B[39marray(scheduled_control)\u001B[38;5;241m.\u001B[39mreshape(\u001B[38;5;241m-\u001B[39m\u001B[38;5;241m1\u001B[39m, ))\n\u001B[0;32m     66\u001B[0m data_input \u001B[38;5;241m=\u001B[39m np\u001B[38;5;241m.\u001B[39marray(data_input)\n\u001B[1;32m---> 67\u001B[0m \u001B[43mscaler_input\u001B[49m\u001B[38;5;241;43m.\u001B[39;49m\u001B[43mfit\u001B[49m\u001B[43m(\u001B[49m\u001B[43mdata_input\u001B[49m\u001B[43m)\u001B[49m\n\u001B[0;32m     68\u001B[0m data_input_norm \u001B[38;5;241m=\u001B[39m scaler_input\u001B[38;5;241m.\u001B[39mtransform(data_input)\n\u001B[0;32m     70\u001B[0m input_preprocessed \u001B[38;5;241m=\u001B[39m []\n",
      "File \u001B[1;32mc:\\pycharmproject\\sequential-fdp-proxy-python\\venv\\lib\\site-packages\\sklearn\\preprocessing\\_data.py:809\u001B[0m, in \u001B[0;36mStandardScaler.fit\u001B[1;34m(self, X, y, sample_weight)\u001B[0m\n\u001B[0;32m    807\u001B[0m \u001B[38;5;66;03m# Reset internal state before fitting\u001B[39;00m\n\u001B[0;32m    808\u001B[0m \u001B[38;5;28mself\u001B[39m\u001B[38;5;241m.\u001B[39m_reset()\n\u001B[1;32m--> 809\u001B[0m \u001B[38;5;28;01mreturn\u001B[39;00m \u001B[38;5;28;43mself\u001B[39;49m\u001B[38;5;241;43m.\u001B[39;49m\u001B[43mpartial_fit\u001B[49m\u001B[43m(\u001B[49m\u001B[43mX\u001B[49m\u001B[43m,\u001B[49m\u001B[43m \u001B[49m\u001B[43my\u001B[49m\u001B[43m,\u001B[49m\u001B[43m \u001B[49m\u001B[43msample_weight\u001B[49m\u001B[43m)\u001B[49m\n",
      "File \u001B[1;32mc:\\pycharmproject\\sequential-fdp-proxy-python\\venv\\lib\\site-packages\\sklearn\\preprocessing\\_data.py:844\u001B[0m, in \u001B[0;36mStandardScaler.partial_fit\u001B[1;34m(self, X, y, sample_weight)\u001B[0m\n\u001B[0;32m    812\u001B[0m \u001B[38;5;124;03m\"\"\"Online computation of mean and std on X for later scaling.\u001B[39;00m\n\u001B[0;32m    813\u001B[0m \n\u001B[0;32m    814\u001B[0m \u001B[38;5;124;03mAll of X is processed as a single batch. This is intended for cases\u001B[39;00m\n\u001B[1;32m   (...)\u001B[0m\n\u001B[0;32m    841\u001B[0m \u001B[38;5;124;03m    Fitted scaler.\u001B[39;00m\n\u001B[0;32m    842\u001B[0m \u001B[38;5;124;03m\"\"\"\u001B[39;00m\n\u001B[0;32m    843\u001B[0m first_call \u001B[38;5;241m=\u001B[39m \u001B[38;5;129;01mnot\u001B[39;00m \u001B[38;5;28mhasattr\u001B[39m(\u001B[38;5;28mself\u001B[39m, \u001B[38;5;124m\"\u001B[39m\u001B[38;5;124mn_samples_seen_\u001B[39m\u001B[38;5;124m\"\u001B[39m)\n\u001B[1;32m--> 844\u001B[0m X \u001B[38;5;241m=\u001B[39m \u001B[38;5;28;43mself\u001B[39;49m\u001B[38;5;241;43m.\u001B[39;49m\u001B[43m_validate_data\u001B[49m\u001B[43m(\u001B[49m\n\u001B[0;32m    845\u001B[0m \u001B[43m    \u001B[49m\u001B[43mX\u001B[49m\u001B[43m,\u001B[49m\n\u001B[0;32m    846\u001B[0m \u001B[43m    \u001B[49m\u001B[43maccept_sparse\u001B[49m\u001B[38;5;241;43m=\u001B[39;49m\u001B[43m(\u001B[49m\u001B[38;5;124;43m\"\u001B[39;49m\u001B[38;5;124;43mcsr\u001B[39;49m\u001B[38;5;124;43m\"\u001B[39;49m\u001B[43m,\u001B[49m\u001B[43m \u001B[49m\u001B[38;5;124;43m\"\u001B[39;49m\u001B[38;5;124;43mcsc\u001B[39;49m\u001B[38;5;124;43m\"\u001B[39;49m\u001B[43m)\u001B[49m\u001B[43m,\u001B[49m\n\u001B[0;32m    847\u001B[0m \u001B[43m    \u001B[49m\u001B[43mdtype\u001B[49m\u001B[38;5;241;43m=\u001B[39;49m\u001B[43mFLOAT_DTYPES\u001B[49m\u001B[43m,\u001B[49m\n\u001B[0;32m    848\u001B[0m \u001B[43m    \u001B[49m\u001B[43mforce_all_finite\u001B[49m\u001B[38;5;241;43m=\u001B[39;49m\u001B[38;5;124;43m\"\u001B[39;49m\u001B[38;5;124;43mallow-nan\u001B[39;49m\u001B[38;5;124;43m\"\u001B[39;49m\u001B[43m,\u001B[49m\n\u001B[0;32m    849\u001B[0m \u001B[43m    \u001B[49m\u001B[43mreset\u001B[49m\u001B[38;5;241;43m=\u001B[39;49m\u001B[43mfirst_call\u001B[49m\u001B[43m,\u001B[49m\n\u001B[0;32m    850\u001B[0m \u001B[43m\u001B[49m\u001B[43m)\u001B[49m\n\u001B[0;32m    851\u001B[0m n_features \u001B[38;5;241m=\u001B[39m X\u001B[38;5;241m.\u001B[39mshape[\u001B[38;5;241m1\u001B[39m]\n\u001B[0;32m    853\u001B[0m \u001B[38;5;28;01mif\u001B[39;00m sample_weight \u001B[38;5;129;01mis\u001B[39;00m \u001B[38;5;129;01mnot\u001B[39;00m \u001B[38;5;28;01mNone\u001B[39;00m:\n",
      "File \u001B[1;32mc:\\pycharmproject\\sequential-fdp-proxy-python\\venv\\lib\\site-packages\\sklearn\\base.py:577\u001B[0m, in \u001B[0;36mBaseEstimator._validate_data\u001B[1;34m(self, X, y, reset, validate_separately, **check_params)\u001B[0m\n\u001B[0;32m    575\u001B[0m     \u001B[38;5;28;01mraise\u001B[39;00m \u001B[38;5;167;01mValueError\u001B[39;00m(\u001B[38;5;124m\"\u001B[39m\u001B[38;5;124mValidation should be done on X, y or both.\u001B[39m\u001B[38;5;124m\"\u001B[39m)\n\u001B[0;32m    576\u001B[0m \u001B[38;5;28;01melif\u001B[39;00m \u001B[38;5;129;01mnot\u001B[39;00m no_val_X \u001B[38;5;129;01mand\u001B[39;00m no_val_y:\n\u001B[1;32m--> 577\u001B[0m     X \u001B[38;5;241m=\u001B[39m check_array(X, input_name\u001B[38;5;241m=\u001B[39m\u001B[38;5;124m\"\u001B[39m\u001B[38;5;124mX\u001B[39m\u001B[38;5;124m\"\u001B[39m, \u001B[38;5;241m*\u001B[39m\u001B[38;5;241m*\u001B[39mcheck_params)\n\u001B[0;32m    578\u001B[0m     out \u001B[38;5;241m=\u001B[39m X\n\u001B[0;32m    579\u001B[0m \u001B[38;5;28;01melif\u001B[39;00m no_val_X \u001B[38;5;129;01mand\u001B[39;00m \u001B[38;5;129;01mnot\u001B[39;00m no_val_y:\n",
      "File \u001B[1;32mc:\\pycharmproject\\sequential-fdp-proxy-python\\venv\\lib\\site-packages\\sklearn\\utils\\validation.py:856\u001B[0m, in \u001B[0;36mcheck_array\u001B[1;34m(array, accept_sparse, accept_large_sparse, dtype, order, copy, force_all_finite, ensure_2d, allow_nd, ensure_min_samples, ensure_min_features, estimator, input_name)\u001B[0m\n\u001B[0;32m    854\u001B[0m         array \u001B[38;5;241m=\u001B[39m array\u001B[38;5;241m.\u001B[39mastype(dtype, casting\u001B[38;5;241m=\u001B[39m\u001B[38;5;124m\"\u001B[39m\u001B[38;5;124munsafe\u001B[39m\u001B[38;5;124m\"\u001B[39m, copy\u001B[38;5;241m=\u001B[39m\u001B[38;5;28;01mFalse\u001B[39;00m)\n\u001B[0;32m    855\u001B[0m     \u001B[38;5;28;01melse\u001B[39;00m:\n\u001B[1;32m--> 856\u001B[0m         array \u001B[38;5;241m=\u001B[39m \u001B[43mnp\u001B[49m\u001B[38;5;241;43m.\u001B[39;49m\u001B[43masarray\u001B[49m\u001B[43m(\u001B[49m\u001B[43marray\u001B[49m\u001B[43m,\u001B[49m\u001B[43m \u001B[49m\u001B[43morder\u001B[49m\u001B[38;5;241;43m=\u001B[39;49m\u001B[43morder\u001B[49m\u001B[43m,\u001B[49m\u001B[43m \u001B[49m\u001B[43mdtype\u001B[49m\u001B[38;5;241;43m=\u001B[39;49m\u001B[43mdtype\u001B[49m\u001B[43m)\u001B[49m\n\u001B[0;32m    857\u001B[0m \u001B[38;5;28;01mexcept\u001B[39;00m ComplexWarning \u001B[38;5;28;01mas\u001B[39;00m complex_warning:\n\u001B[0;32m    858\u001B[0m     \u001B[38;5;28;01mraise\u001B[39;00m \u001B[38;5;167;01mValueError\u001B[39;00m(\n\u001B[0;32m    859\u001B[0m         \u001B[38;5;124m\"\u001B[39m\u001B[38;5;124mComplex data not supported\u001B[39m\u001B[38;5;130;01m\\n\u001B[39;00m\u001B[38;5;132;01m{}\u001B[39;00m\u001B[38;5;130;01m\\n\u001B[39;00m\u001B[38;5;124m\"\u001B[39m\u001B[38;5;241m.\u001B[39mformat(array)\n\u001B[0;32m    860\u001B[0m     ) \u001B[38;5;28;01mfrom\u001B[39;00m \u001B[38;5;21;01mcomplex_warning\u001B[39;00m\n",
      "\u001B[1;31mValueError\u001B[0m: could not convert string to float: ''"
     ]
    }
   ],
   "source": [
    "Model_o = ProxyModel(args, samples_o, model_name='LSTM')\n",
    "if os.path.exists(f'{Model_o.saved_dir}/saved_model.pth'):\n",
    "    Model_o.model.load_state_dict(torch.load(f'{Model_o.saved_dir}/saved_model.pth'))\n",
    "else:\n",
    "    Model_o.model = Model_o.train_model(samples_o, train_ratio=args.train_ratio,\n",
    "                                        validate_ratio=args.validate_ratio,\n",
    "                                        saved_dir=Model_o.saved_dir)"
   ],
   "metadata": {
    "collapsed": false,
    "pycharm": {
     "name": "#%%\n"
    }
   }
  },
  {
   "cell_type": "markdown",
   "source": [
    "#### 2.2. Optimization\n"
   ],
   "metadata": {
    "collapsed": false,
    "pycharm": {
     "name": "#%% md\n"
    }
   }
  },
  {
   "cell_type": "code",
   "execution_count": null,
   "outputs": [],
   "source": [
    "operation_positions = OperationSample.make_candidate_solutions(num_of_candidates=args.num_of_particles)\n",
    "\n",
    "WOO = GlobalOpt(args, operation_positions, OperationSample.perm[:, OperationSample.perm_idx - 1],\n",
    "                alg_name='PSO', nn_model=Model_o, sample=samples_p)\n",
    "WOO.iterate(args.num_of_generations)\n",
    "best_wo = WOO.get_solution(drilling_time=True, control=True)"
   ],
   "metadata": {
    "collapsed": false,
    "pycharm": {
     "name": "#%%\n"
    }
   }
  }
 ],
 "metadata": {
  "kernelspec": {
   "display_name": "Python 3",
   "language": "python",
   "name": "python3"
  },
  "language_info": {
   "codemirror_mode": {
    "name": "ipython",
    "version": 2
   },
   "file_extension": ".py",
   "mimetype": "text/x-python",
   "name": "python",
   "nbconvert_exporter": "python",
   "pygments_lexer": "ipython2",
   "version": "2.7.6"
  }
 },
 "nbformat": 4,
 "nbformat_minor": 0
}